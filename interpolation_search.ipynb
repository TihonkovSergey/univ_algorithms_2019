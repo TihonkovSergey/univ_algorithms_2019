{
 "cells": [
  {
   "cell_type": "code",
   "execution_count": 8,
   "metadata": {},
   "outputs": [
    {
     "name": "stdout",
     "output_type": "stream",
     "text": [
      "[2.7, 5.50625, 8.0625, 10.875, 11.62, 11.8]\n",
      "[5.196062536933858, 8.196062536933857, 9.950950039097327, 12.728166134812925, 13.427880412957995, 13.61812730310667]\n"
     ]
    }
   ],
   "source": [
    "import numpy as np\n",
    "from numpy import log2\n",
    "import matplotlib.pyplot as plt\n",
    "\n",
    "def generate_sort_array(size=20, min_elem=0, max_elem=100):\n",
    "    \"\"\"\n",
    "    param size: требуемый размер массива\n",
    "    param min_elem: нижняя граница рандома\n",
    "    param max_elem: верхняя граница рандома\n",
    "    return: отсортированный массив размера size с целочисленными значениями от min_elem до max_elem\n",
    "    \"\"\"\n",
    "    return sorted(np.random.randint(min_elem, max_elem, size, dtype='int64'))\n",
    "\n",
    "def interpolation_search(array, key):\n",
    "    \"\"\"\n",
    "    param array: массив, в котором производится поиск. Должен быть отсортирован.\n",
    "    param key: значение элемента, который ищется в массиве array\n",
    "    return: tuple(pos, count), где \n",
    "        pos: позиция элемента key в массиве array или -1 если key не содержится в array\n",
    "        count: количество итераций алгоритма, которое потребовалось для поиска\n",
    "    \"\"\" \n",
    "    left = 0  # левая граница поиска (будем считать, что элементы массива нумеруются с нуля) \n",
    "    right = len(array) - 1  # правая граница поиска \n",
    "    count = 0 # счетчик количества проверок\n",
    "    \n",
    "    # начинаем поиск элемента\n",
    "    while array[left] < key and key < array[right]:\n",
    "        count += 2\n",
    "        # индекс элемента, с которым будем проводить сравнение\n",
    "        mid = left + (key - array[left]) * (right - left) // (array[right] - array[left])\n",
    "        # выбор где искать дальше - слева или справа\n",
    "        if array[mid] < key:\n",
    "            count+=1\n",
    "            left = mid + 1\n",
    "        elif array[mid] > key:\n",
    "            count+=1\n",
    "            right = mid - 1\n",
    "        else:\n",
    "            return mid, count # элемент найден\n",
    "    \n",
    "    # остаточные проверки\n",
    "    if array[left] == key:\n",
    "        return left, count+1\n",
    "    elif array[right] == key:\n",
    "        return right, count+2\n",
    "    else:\n",
    "        return -1, count+2 # искомого элемента в массиве не найдено\n",
    "\n",
    "n_list = [10, 100, 1000, 500000, 5000000, 10000000] # список значений размера массива\n",
    "gens =   [20, 20,  20,   10,     5,       5] # количество повторений генерации для каждого n\n",
    "repeats =[40, 40,  40,   20,     20,      20] # количество повторений поиска для каждой генерации\n",
    "result = [] # средние значения количества операций сравнения\n",
    "real_logs = [] # реальные значения функции log(log(3*n))\n",
    "for k, n in enumerate(n_list):\n",
    "    counts = 0\n",
    "    for i in range(gens[k]):\n",
    "        # генерируем случайный отсортированный массив\n",
    "        a = generate_sort_array(size=n, min_elem=0, max_elem=n)\n",
    "        for j in range(repeats[k]):\n",
    "            # генерируем случайный ключ для поиска\n",
    "            key = np.random.randint(0,n)\n",
    "            # ищем ключ в массиве\n",
    "            pos, count = interpolation_search(a, key)\n",
    "            counts += count\n",
    "    # усредняем и сохраняем результаты\n",
    "    result.append(counts / (gens[k] * repeats[k]))\n",
    "    real_logs.append(3*log2(log2(n)))\n",
    "print(result)\n",
    "print(real_logs)"
   ]
  },
  {
   "cell_type": "code",
   "execution_count": 9,
   "metadata": {},
   "outputs": [
    {
     "data": {
      "image/png": "[encoded data removed]",
      "text/plain": [
       "<Figure size 432x288 with 1 Axes>"
      ]
     },
     "metadata": {
      "needs_background": "light"
     },
     "output_type": "display_data"
    }
   ],
   "source": [
    "plt.scatter(n_list, result, c='b') # рисуем точки из эксперимента синим\n",
    "plt.scatter(n_list, real_logs, c='r') # рисуем точки реальных значений красным\n",
    "\n",
    "# оформление графика\n",
    "plt.title('Зависимость количества операций сравнения от размера массива')\n",
    "plt.xlabel('размер массива')\n",
    "plt.ylabel('среднее количество операций сравнения')\n",
    "\n",
    "# вывод графика\n",
    "plt.show()"
   ]
  },
  {
   "cell_type": "code",
   "execution_count": null,
   "metadata": {},
   "outputs": [],
   "source": []
  }
 ],
 "metadata": {
  "kernelspec": {
   "display_name": "Python 3",
   "language": "python",
   "name": "python3"
  },
  "language_info": {
   "codemirror_mode": {
    "name": "ipython",
    "version": 3
   },
   "file_extension": ".py",
   "mimetype": "text/x-python",
   "name": "python",
   "nbconvert_exporter": "python",
   "pygments_lexer": "ipython3",
   "version": "3.7.3"
  }
 },
 "nbformat": 4,
 "nbformat_minor": 2
}
